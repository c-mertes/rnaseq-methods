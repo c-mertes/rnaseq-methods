{
 "cells": [
  {
   "cell_type": "code",
   "execution_count": 47,
   "metadata": {},
   "outputs": [],
   "source": [
    "import gzip\n",
    "import pyBigWig\n",
    "import tqdm"
   ]
  },
  {
   "cell_type": "code",
   "execution_count": 52,
   "metadata": {},
   "outputs": [
    {
     "data": {
      "text/plain": [
       "[('chr1', 248956422),\n",
       " ('chr2', 242193529),\n",
       " ('chr3', 198295559),\n",
       " ('chr4', 190214555),\n",
       " ('chr5', 181538259),\n",
       " ('chr6', 170805979),\n",
       " ('chr7', 159345973),\n",
       " ('chr8', 145138636),\n",
       " ('chr9', 138394717),\n",
       " ('chr10', 133797422),\n",
       " ('chr11', 135086622),\n",
       " ('chr12', 133275309),\n",
       " ('chr13', 114364328),\n",
       " ('chr14', 107043718),\n",
       " ('chr15', 101991189),\n",
       " ('chr16', 90338345),\n",
       " ('chr17', 83257441),\n",
       " ('chr18', 80373285),\n",
       " ('chr19', 58617616),\n",
       " ('chr20', 64444167),\n",
       " ('chr21', 46709983),\n",
       " ('chr22', 50818468),\n",
       " ('chrX', 156040895),\n",
       " ('chrY', 57227415),\n",
       " ('chrM', 16569)]"
      ]
     },
     "execution_count": 52,
     "metadata": {},
     "output_type": "execute_result"
    }
   ],
   "source": [
    "chrom_sizes = []\n",
    "with open(\"/Users/weisburd/p1/ref/GRCh38/hg38.fa.fai\") as f:\n",
    "    for line in f:\n",
    "        fields = line.split(\"\\t\")\n",
    "        chrom = fields[0]\n",
    "        size = int(fields[1])\n",
    "        if \"_\" in chrom or \"-\" in chrom or \"ebv\" in chrom.lower():\n",
    "            continue\n",
    "        chrom_sizes.append((chrom, size))"
   ]
  },
  {
   "cell_type": "code",
   "execution_count": 65,
   "metadata": {
    "scrolled": true
   },
   "outputs": [
    {
     "data": {
      "application/vnd.jupyter.widget-view+json": {
       "model_id": "22565715cdcd421b9cbd681647c8fad2",
       "version_major": 2,
       "version_minor": 0
      },
      "text/plain": [
       "HBox(children=(FloatProgress(value=0.0, max=280000000.0), HTML(value='')))"
      ]
     },
     "metadata": {},
     "output_type": "display_data"
    },
    {
     "name": "stdout",
     "output_type": "stream",
     "text": [
      " 280000002 rows >= 0.00 100.0%\n",
      "   1887202 rows >= 0.20 0.7%\n",
      "   1152851 rows >= 0.30 0.4%\n",
      "    625737 rows >= 0.50 0.2%\n",
      "    328888 rows >= 0.80 0.1%\n"
     ]
    }
   ],
   "source": [
    "info_splice_ai_fields = \"ALLELE|SYMBOL|DS_AG|DS_AL|DS_DG|DS_DL|DP_AG|DP_AL|DP_DG|DP_DL\".split(\"|\")\n",
    "\n",
    "bins = {\n",
    "    0: 0,\n",
    "    0.2: 0,\n",
    "    0.3: 0,\n",
    "    0.5: 0,\n",
    "    0.8: 0,\n",
    "}\n",
    "\n",
    "bw = pyBigWig.open(\"spliceAI.snv.hg38.all.bigWig\", \"w\")\n",
    "bw.addHeader(chrom_sizes)         \n",
    "\n",
    "#total_num_lines = 3_433_386_166\n",
    "total_num_lines = 280_000_000\n",
    "with gzip.open(\"./spliceai_scores.raw.snv.hg38.vcf.gz\", \"rt\") as f:\n",
    "    line = ''\n",
    "    while not line.startswith(\"#CHROM\"):\n",
    "        line = next(f)\n",
    "\n",
    "    prev_chrom = None\n",
    "    prev_pos = None\n",
    "    current_scores = []\n",
    "    for i, line in enumerate(tqdm.notebook.tqdm(f, unit=\" lines\", total=total_num_lines)):\n",
    "        line = line.rstrip()\n",
    "        fields = line.split(\"\\t\")\n",
    "        chrom = fields[0]\n",
    "        pos = int(fields[1])\n",
    "        if pos != prev_pos and current_scores:\n",
    "            max_score = max(current_scores)\n",
    "            if max_score >= 0.2:\n",
    "                #bw.write(prev_chrom, prev_pos - 1, prev_pos, max_score)\n",
    "                bw.addEntries(f\"chr{prev_chrom}\", [prev_pos], values=[max_score], span=1)\n",
    "            current_scores.clear()\n",
    "            prev_chrom = chrom\n",
    "            prev_pos = pos\n",
    "            \n",
    "        #ref = fields[3]\n",
    "        #alt = fields[4]\n",
    "        idx = fields[7].index(\"=\") + 1\n",
    "        delta_scores = dict(zip(info_splice_ai_fields, fields[7][idx:].split(\"|\")))\n",
    "        max_delta = max(float(delta_scores[k]) for k in ('DS_AG', 'DS_AL', 'DS_DG', 'DS_DL'))\n",
    "        current_scores.append(max_delta)\n",
    "        for k in bins:\n",
    "            if max_delta >= k:\n",
    "                bins[k] += 1\n",
    "        \n",
    "        #if i > 100_000_0000:\n",
    "        if i > total_num_lines:\n",
    "            break\n",
    "bw.close()\n",
    "\n",
    "for k, v in bins.items():\n",
    "    print(f\"{v:10d} rows >= {k:0.2f} {(100.0*v)/bins[0]:3.1f}%\")\n"
   ]
  },
  {
   "cell_type": "code",
   "execution_count": 61,
   "metadata": {},
   "outputs": [
    {
     "data": {
      "text/plain": [
       "84000000"
      ]
     },
     "execution_count": 61,
     "metadata": {},
     "output_type": "execute_result"
    }
   ],
   "source": [
    "140000*10*60"
   ]
  },
  {
   "cell_type": "code",
   "execution_count": 43,
   "metadata": {},
   "outputs": [],
   "source": [
    "x = [1,2]"
   ]
  },
  {
   "cell_type": "code",
   "execution_count": 45,
   "metadata": {},
   "outputs": [],
   "source": [
    "x.clear()"
   ]
  },
  {
   "cell_type": "code",
   "execution_count": 46,
   "metadata": {},
   "outputs": [
    {
     "data": {
      "text/plain": [
       "[]"
      ]
     },
     "execution_count": 46,
     "metadata": {},
     "output_type": "execute_result"
    }
   ],
   "source": [
    "x"
   ]
  },
  {
   "cell_type": "code",
   "execution_count": null,
   "metadata": {},
   "outputs": [],
   "source": []
  }
 ],
 "metadata": {
  "kernelspec": {
   "display_name": "Python 3",
   "language": "python",
   "name": "python3"
  },
  "language_info": {
   "codemirror_mode": {
    "name": "ipython",
    "version": 3
   },
   "file_extension": ".py",
   "mimetype": "text/x-python",
   "name": "python",
   "nbconvert_exporter": "python",
   "pygments_lexer": "ipython3",
   "version": "3.7.5"
  }
 },
 "nbformat": 4,
 "nbformat_minor": 2
}
