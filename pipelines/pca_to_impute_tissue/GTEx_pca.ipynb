{
 "cells": [
  {
   "cell_type": "code",
   "execution_count": 1,
   "metadata": {},
   "outputs": [],
   "source": [
    "import argparse\n",
    "import gzip\n",
    "import logging\n",
    "import numpy as np\n",
    "import os\n",
    "import pandas as pd\n",
    "import pprint\n"
   ]
  },
  {
   "cell_type": "code",
   "execution_count": 2,
   "metadata": {},
   "outputs": [],
   "source": [
    "GTEX_SAMPLE_INFO = os.path.expanduser('~/project__rnaseq/data/GTEx_v8_metadata/GTEx_Analysis_v8_Annotations_SampleAttributesDS.tsv')\n",
    "GTEX_INDIVIDUAL_INFO = os.path.expanduser('~/project__rnaseq/data/GTEx_v8_metadata/GTEx_Analysis_v8_Annotations_SubjectPhenotypesDS.tsv')\n",
    "GTEX_TPM_PATH = os.path.expanduser(\"~/project__rnaseq/data/GTEx_Analysis_2017-06-05_v8_RNASeQCv1.1.9_gene_tpm.gct.gz\")\n"
   ]
  },
  {
   "cell_type": "code",
   "execution_count": 12,
   "metadata": {},
   "outputs": [],
   "source": [
    "df_sampleInfo = pd.read_csv(GTEX_SAMPLE_INFO, sep=\"\\t\")\n",
    "df_individualInfo = pd.read_csv(GTEX_INDIVIDUAL_INFO, sep=\"\\t\")\n"
   ]
  },
  {
   "cell_type": "code",
   "execution_count": 30,
   "metadata": {},
   "outputs": [],
   "source": [
    "with gzip.open(GTEX_TPM_PATH, \"rt\") as f:\n",
    "    next(f)  # skip header\n",
    "    next(f)\n",
    "    column_names = next(f).rstrip(\"\\n\").split(\"\\t\")\n",
    "    sample_ids = column_names[2:]\n",
    "    gene_ids = np.loadtxt(f, delimiter='\\t', usecols=0, dtype=np.str)\n",
    "\n",
    "print(f\"Got {len(gene_ids)} gene ids x {len(sample_ids)} sample ids\")"
   ]
  },
  {
   "cell_type": "code",
   "execution_count": null,
   "metadata": {},
   "outputs": [],
   "source": [
    "with gzip.open(GTEX_TPM_PATH, \"rt\") as f:\n",
    "    next(f)  # skip header\n",
    "    next(f)\n",
    "    next(f)\n",
    "    tpms = np.loadtxt(f, delimiter='\\t', usecols=range(2, len(column_names)))\n",
    "\n",
    "print(f\"Loaded {tmps.ndim} TPMs\")"
   ]
  },
  {
   "cell_type": "code",
   "execution_count": null,
   "metadata": {},
   "outputs": [],
   "source": [
    "print(f\"Loaded {tmps.ndim} TPMs\")"
   ]
  },
  {
   "cell_type": "code",
   "execution_count": null,
   "metadata": {},
   "outputs": [],
   "source": [
    "tpms_T = tpms.transpose()\n",
    "    "
   ]
  },
  {
   "cell_type": "code",
   "execution_count": null,
   "metadata": {},
   "outputs": [],
   "source": [
    "tpms = np.log2(tpms + 1)"
   ]
  },
  {
   "cell_type": "code",
   "execution_count": null,
   "metadata": {},
   "outputs": [],
   "source": [
    "if scaling == 'standard':\n",
    "    # (x_i - mean(X))/stdev(X)\n",
    "    scaler = StandardScaler()\n",
    "elif scaling == 'robust':\n",
    "    # (x_i - Q_1(X))/(Q_3(X) - Q_1(X))\n",
    "    scaler = RobustScaler()\n",
    "elif scaling == 'normalizer':\n",
    "\n",
    "    # x_i / sqrt(x_i, y_i, z_i, ...)\n",
    "    scaler = Normalizer()\n",
    "else:\n",
    "    print(scaling + \" not recognized. Using standard scaler.\")\n",
    "    scaler = StandardScaler()\n",
    "\n",
    "print(now() + \": Scaling data\")\n",
    "scaler.fit(tpms)\n",
    "tpms = scaler.transform(tpms)"
   ]
  },
  {
   "cell_type": "code",
   "execution_count": null,
   "metadata": {},
   "outputs": [],
   "source": [
    "pca = PCA(n_components=n_components, random_state = 42, svd_solver = 'full')\n",
    "pca.fit(tpms)\n"
   ]
  },
  {
   "cell_type": "code",
   "execution_count": null,
   "metadata": {},
   "outputs": [],
   "source": [
    "\n",
    "if save_pca:\n",
    "    print(now() + \": Saving PCA object\")\n",
    "    file_name = str(pca_name) + \".object\"\n",
    "    #open(file_name, 'wb')\n",
    "    pickle.dump(pca, open(file_name, 'wb'), protocol=4)\n",
    "    # file_name.close()\n",
    "\n",
    "if save_scaler and scaling is not None:\n",
    "    print(now() + \": Saving scaler object\")\n",
    "    file_name = str(pca_name) + \".\" + scaling + \"_scaler.object\"\n",
    "    pickle.dump(scaler, open(file_name, 'wb'), protocol=4)\n",
    "\n",
    "print(now() + \": Finishing pca and scaling execution\")\n",
    "return pca, scaler\t"
   ]
  }
 ],
 "metadata": {
  "kernelspec": {
   "display_name": "Python 3",
   "language": "python",
   "name": "python3"
  },
  "language_info": {
   "codemirror_mode": {
    "name": "ipython",
    "version": 3
   },
   "file_extension": ".py",
   "mimetype": "text/x-python",
   "name": "python",
   "nbconvert_exporter": "python",
   "pygments_lexer": "ipython3",
   "version": "3.7.7"
  }
 },
 "nbformat": 4,
 "nbformat_minor": 2
}
